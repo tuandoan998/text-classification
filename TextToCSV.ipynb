{
 "cells": [
  {
   "cell_type": "code",
   "execution_count": 1,
   "metadata": {},
   "outputs": [],
   "source": [
    "import pandas as pd\n",
    "import glob, os\n",
    "import numpy as np"
   ]
  },
  {
   "cell_type": "code",
   "execution_count": 2,
   "metadata": {},
   "outputs": [],
   "source": [
    "business_news = []\n",
    "for news in glob.glob('data/business/*.txt'):\n",
    "    with open(news, 'r') as f:\n",
    "        business_news.append(f.read())\n",
    "        f.close()"
   ]
  },
  {
   "cell_type": "code",
   "execution_count": 3,
   "metadata": {},
   "outputs": [],
   "source": [
    "entertainment_news = []\n",
    "for news in glob.glob('data/entertainment/*.txt'):\n",
    "    with open(news, 'r') as f:\n",
    "        entertainment_news.append(f.read())\n",
    "        f.close()"
   ]
  },
  {
   "cell_type": "code",
   "execution_count": 4,
   "metadata": {},
   "outputs": [],
   "source": [
    "politics_news = []\n",
    "for news in glob.glob('data/politics/*.txt'):\n",
    "    with open(news, 'r') as f:\n",
    "        politics_news.append(f.read())\n",
    "        f.close()"
   ]
  },
  {
   "cell_type": "code",
   "execution_count": 5,
   "metadata": {},
   "outputs": [],
   "source": [
    "sport_news = []\n",
    "for news in glob.glob('data/sport/*.txt'):\n",
    "    with open(news, 'r') as f:\n",
    "        sport_news.append(f.read())\n",
    "        f.close()"
   ]
  },
  {
   "cell_type": "code",
   "execution_count": 6,
   "metadata": {},
   "outputs": [],
   "source": [
    "tech_news = []\n",
    "for news in glob.glob('data/tech/*.txt'):\n",
    "    with open(news, 'r') as f:\n",
    "        tech_news.append(f.read())\n",
    "        f.close()"
   ]
  },
  {
   "cell_type": "code",
   "execution_count": 7,
   "metadata": {},
   "outputs": [],
   "source": [
    "business_df = pd.DataFrame({'text':business_news, 'label':'business'})\n",
    "entertainment_df = pd.DataFrame({'text':entertainment_news, 'label':'entertainment'})\n",
    "politics_df = pd.DataFrame({'text':politics_news, 'label':'politics'})\n",
    "sport_df = pd.DataFrame({'text':sport_news, 'label':'sport'})\n",
    "tech_df = pd.DataFrame({'text':tech_news, 'label':'tech'})"
   ]
  },
  {
   "cell_type": "code",
   "execution_count": 8,
   "metadata": {},
   "outputs": [],
   "source": [
    "business_df_train, business_df_test = business_df.iloc[:int(len(business_news)*0.8)], business_df.iloc[int(len(business_news)*0.8):]\n",
    "entertainment_df_train, entertainment_df_test = entertainment_df.iloc[:int(len(entertainment_news)*0.8)], entertainment_df.iloc[int(len(entertainment_news)*0.8):]\n",
    "politics_df_train, politics_df_test = politics_df.iloc[:int(len(politics_news)*0.8)], politics_df.iloc[int(len(politics_news)*0.8):]\n",
    "sport_df_train, sport_df_test = sport_df.iloc[:int(len(sport_news)*0.8)], sport_df.iloc[int(len(sport_news)*0.8):]\n",
    "tech_df_train, tech_df_test = tech_df.iloc[:int(len(tech_news)*0.8)], tech_df.iloc[int(len(tech_news)*0.8):]"
   ]
  },
  {
   "cell_type": "code",
   "execution_count": 9,
   "metadata": {},
   "outputs": [],
   "source": [
    "train_df = pd.concat([business_df_train, entertainment_df_train, politics_df_train, sport_df_train, tech_df_train], ignore_index=True)\n",
    "test_df = pd.concat([business_df_test, entertainment_df_test, politics_df_test, sport_df_test, tech_df_test], ignore_index=True)"
   ]
  },
  {
   "cell_type": "code",
   "execution_count": 10,
   "metadata": {},
   "outputs": [],
   "source": [
    "np.random.shuffle(train_df.values)\n",
    "np.random.shuffle(test_df.values)"
   ]
  },
  {
   "cell_type": "code",
   "execution_count": 11,
   "metadata": {},
   "outputs": [],
   "source": [
    "labels = ['business', 'entertainment', 'politics', 'sport', 'tech']\n",
    "label2int = dict((c, i) for i, c in enumerate(labels))\n",
    "int2label = dict((i, c) for i, c in enumerate(labels))"
   ]
  },
  {
   "cell_type": "markdown",
   "metadata": {},
   "source": [
    "train_df['label'] = train_df['label'].apply(lambda x: label2int[x])\n",
    "train_df['text'] = train_df['text'].apply(lambda x: x.replace('\\n', ' '))\n",
    "test_df['label'] = test_df['label'].apply(lambda x: label2int[x])\n",
    "test_df['text'] = test_df['text'].apply(lambda x: x.replace('\\n', ' '))"
   ]
  },
  {
   "cell_type": "code",
   "execution_count": 14,
   "metadata": {},
   "outputs": [],
   "source": [
    "train_df.to_csv('data/train.tsv', sep='\\t', index=False, header=None)\n",
    "test_df.to_csv('data/test.tsv', sep='\\t', index=False, header=None)"
   ]
  },
  {
   "cell_type": "code",
   "execution_count": 12,
   "metadata": {},
   "outputs": [
    {
     "data": {
      "text/plain": [
       "'Three DJs replace Peel radio show\\n\\nThe late John Peel\\'s BBC Radio 1 show is to be succeeded in February by three shows hosted by three DJs focusing on diverse, non-commercial music.\\n\\nHuw Stephens, Ras Kwame and Rob Da Bank will each host the mid-week, late-night timeslot, showcasing UK talent. Radio 1 said the show would not try to replace Peel, but would rise to the \"challenge\" of \"keeping his legacy alive\" with unpredictable music. Peel died after suffering a heart attack in Peru in October. Radio 1 said the three DJs had been chosen for their \"in-depth musical knowledge across a variety of musical genres\". Rob Da Bank has been hosting The John Peel Show since the DJ\\'s death. He is also one of the hosts of The Blue Room, an early morning weekend show that plays a mix of old and new electronic and dance music. Huw Stephens is currently one half of the Radio 1 Thursday night show Bethan and Huw in Wales, which explores new music, especially up and coming acts breaking through in Wales. And Ras Kwame is the host of 100% Homegrown on Radio 1\\'s digital station 1Xtra. His show is dedicated to showcasing the best of UK black music and broadcasts live sessions, often giving new artists their first chance to perform on live national radio.\\n\\nAll of the three DJs will continue to host their current shows on Radio 1. \"It is widely accepted that John Peel can never be replaced,\" said the radio station. It added that One Music would support both signed and unsigned talent, and said: \"It will seek out those making music for music\\'s sake rather than for commercial success. \"Above all it will provide support to emerging genres of music and styles that have not yet and may never reach the mainstream.\"\\n\\nOne Music is not new to Radio 1 as it already exists as a website, offering advice on aspects of the music industry, such as recording a demo and signing a record contract. Radio 1\\'s controller, Andy Parfitt, said: \"We believe that by having a series of DJs hosting a selection of shows under the One Music title, we will ensure that his legacy lives on.\" Stephens said he grew up \"listening to John\" and that it was a \"massive honour\" to continue Peel\\'s work championing new music. The show will be broadcast from 1 February on Tuesdays, Wednesdays and Thursdays from 2300 GMT - 0100 GMT.\\n'"
      ]
     },
     "execution_count": 12,
     "metadata": {},
     "output_type": "execute_result"
    }
   ],
   "source": [
    "train_df.text[0]"
   ]
  }
 ],
 "metadata": {
  "kernelspec": {
   "display_name": "Python 3",
   "language": "python",
   "name": "python3"
  },
  "language_info": {
   "codemirror_mode": {
    "name": "ipython",
    "version": 3
   },
   "file_extension": ".py",
   "mimetype": "text/x-python",
   "name": "python",
   "nbconvert_exporter": "python",
   "pygments_lexer": "ipython3",
   "version": "3.7.4"
  }
 },
 "nbformat": 4,
 "nbformat_minor": 4
}
